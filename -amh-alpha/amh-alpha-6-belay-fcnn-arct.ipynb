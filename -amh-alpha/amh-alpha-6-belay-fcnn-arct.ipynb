{
 "cells": [
  {
   "cell_type": "code",
   "execution_count": 1,
   "metadata": {},
   "outputs": [],
   "source": [
    "import numpy as np\n",
    "import visualkeras as vk \n",
    "\n",
    "from keras import Model\n",
    "from keras.models import load_model\n",
    "from keras.optimizers import gradient_descent_v2\n",
    "from keras.utils.vis_utils import plot_model\n",
    "from keras.utils import np_utils\n",
    "from keras.callbacks import Callback\n",
    "\n",
    "from keras.callbacks import ModelCheckpoint, EarlyStopping, TensorBoard\n",
    "from keras.layers import Conv2D, MaxPool2D, Flatten, Dense, Dropout, Input, Conv2DTranspose, concatenate\n",
    "from matplotlib import pyplot as plt\n",
    "from matplotlib.font_manager import FontProperties\n",
    "from sklearn.utils import shuffle\n",
    "\n",
    "train_data = np.load(\"../datasets/Amharic character Image dataset/Type-II/train_char/X_train_char.npy\")\n",
    "test_data = np.load(\"../datasets/Amharic character Image dataset/Type-II/test_char/X_test_char.npy\")\n",
    "train_labels = np.load(\"../datasets/Amharic character Image dataset/Type-II/train_char/y_train_char.npy\")\n",
    "test_labels = np.load(\"../datasets/Amharic character Image dataset/Type-II/test_char/y_test_char.npy\")\n",
    "\n",
    "# Normalization \n",
    "\n",
    "train_data = train_data / 255.0\n",
    "test_data = test_data / 255.0"
   ]
  },
  {
   "cell_type": "code",
   "execution_count": 2,
   "metadata": {},
   "outputs": [],
   "source": [
    "# Changing the old labels to row-column\n",
    "\n",
    "train_labels_row = []\n",
    "train_labels_col = []\n",
    "\n",
    "for label in train_labels:\n",
    "    row, col = divmod(label, 7)\n",
    "    train_labels_row.append(row)\n",
    "    train_labels_col.append(col)\n",
    "\n",
    "train_labels_row = np_utils.to_categorical(train_labels_row)\n",
    "train_labels_col = np_utils.to_categorical(train_labels_col)\n"
   ]
  },
  {
   "cell_type": "code",
   "execution_count": 3,
   "metadata": {},
   "outputs": [],
   "source": [
    "test_labels_row = []\n",
    "test_labels_col = []\n",
    "\n",
    "for label in test_labels:\n",
    "    row, col = divmod(label, 7)\n",
    "    test_labels_row.append(row)\n",
    "    test_labels_col.append(col)\n",
    "\n",
    "test_labels_row = np_utils.to_categorical(test_labels_row)\n",
    "test_labels_col = np_utils.to_categorical(test_labels_col)"
   ]
  },
  {
   "cell_type": "code",
   "execution_count": 4,
   "metadata": {},
   "outputs": [
    {
     "name": "stdout",
     "output_type": "stream",
     "text": [
      "(70194, 33)\n",
      "(70194, 7)\n",
      "(7800, 33)\n",
      "(7800, 7)\n"
     ]
    }
   ],
   "source": [
    "print(train_labels_row.shape, train_labels_col.shape, test_labels_row.shape, test_labels_col.shape, sep='\\n')"
   ]
  },
  {
   "cell_type": "code",
   "execution_count": 5,
   "metadata": {},
   "outputs": [],
   "source": [
    "# Model\n",
    "\n",
    "# feature extraction UNET\n",
    "\n",
    "input = Input(train_data.shape[1:])\n",
    "\n",
    "conv1 = Conv2D(32, 3, activation='relu', kernel_initializer='he_normal', padding='same') (input)\n",
    "conv1 = MaxPool2D(pool_size=2, strides=2) (conv1)\n",
    "\n",
    "conv2 = Conv2D(64, 3, activation='relu', kernel_initializer='he_normal', padding='same') (conv1)\n",
    "conv2 = MaxPool2D(pool_size=2, strides=2) (conv2)\n",
    "\n",
    "conv3 = Conv2D(128, 3, activation='relu', kernel_initializer='he_normal', padding='same') (conv2)\n",
    "conv3 = MaxPool2D(pool_size=2, strides=2) (conv3)\n",
    "\n",
    "# classification multi-task learing CNN \n",
    "\n",
    "flatten = Flatten() (conv3)\n",
    "fc1 = Dense(128, activation='relu') (flatten)\n",
    "fc2 = Dense(256, activation='relu') (fc1)                   # neurons?\n",
    "\n",
    "row = Dense(units=33, activation='softmax', name='row') (fc2)\n",
    "col = Dense(units=7, activation='softmax', name='col') (fc2)\n",
    "\n",
    "model = Model(inputs=input, outputs=[row, col], name='FCNN')\n",
    "\n",
    "model.compile(\n",
    "    optimizer=gradient_descent_v2.SGD(momentum=0.9,), # 'adam'\n",
    "    loss=[\n",
    "        'categorical_crossentropy', \n",
    "        'categorical_crossentropy'  \n",
    "    ], \n",
    "    loss_weights = None,\n",
    "    metrics=['accuracy']\n",
    ") "
   ]
  },
  {
   "cell_type": "code",
   "execution_count": 6,
   "metadata": {},
   "outputs": [
    {
     "data": {
      "image/png": "[encoded data removed]",
      "text/plain": [
       "<PIL.Image.Image image mode=RGBA size=586x171 at 0x12CD6B75F70>"
      ]
     },
     "execution_count": 6,
     "metadata": {},
     "output_type": "execute_result"
    }
   ],
   "source": [
    "vk.layered_view(model)"
   ]
  },
  {
   "cell_type": "code",
   "execution_count": 8,
   "metadata": {},
   "outputs": [],
   "source": [
    "class CombinedMetric(Callback):\n",
    "    def __init__(self):\n",
    "        super(CombinedMetric, self).__init__()\n",
    "\n",
    "    def on_epoch_begin(self, epoch, logs={}):\n",
    "        return\n",
    "\n",
    "    def on_epoch_end(self, epoch, logs={}):\n",
    "        logs['accuracy'] = (logs[\"row_accuracy\"] + logs[\"col_accuracy\"]) / 2\n",
    "        logs['val_accuracy'] = (logs[\"val_row_accuracy\"] + logs[\"val_col_accuracy\"]) / 2"
   ]
  },
  {
   "cell_type": "code",
   "execution_count": 9,
   "metadata": {},
   "outputs": [],
   "source": [
    "callbacks = [\n",
    "    ModelCheckpoint(\n",
    "        filepath=\"../datasets/Amharic character Image dataset/models/belay-fcnn-arct/best_loss_model.h5\",\n",
    "        monitor=\"loss\",\n",
    "        save_best_only=True,\n",
    "        save_weights_only=False,\n",
    "        mode=\"min\"\n",
    "    ),\n",
    "\n",
    "    ModelCheckpoint(\n",
    "        filepath=\"../datasets/Amharic character Image dataset/models/belay-fcnn-arct/best_val_loss_model.h5\",\n",
    "        monitor=\"val_loss\",\n",
    "        save_best_only=True,\n",
    "        save_weights_only=False, \n",
    "        mode=\"min\"\n",
    "    ),\n",
    "\n",
    "    EarlyStopping(\n",
    "        monitor = 'val_loss',\n",
    "        patience = 10\n",
    "    ),\n",
    "\n",
    "    TensorBoard(\n",
    "        log_dir=\"../datasets/Amharic character Image dataset/models/belay-fcnn-arct\"\n",
    "    ),\n",
    "\n",
    "    CombinedMetric()\n",
    "]"
   ]
  },
  {
   "cell_type": "code",
   "execution_count": 10,
   "metadata": {},
   "outputs": [
    {
     "name": "stdout",
     "output_type": "stream",
     "text": [
      "Epoch 1/100\n",
      "  6/468 [..............................] - ETA: 5s - loss: 6.0758 - row_loss: 3.6963 - col_loss: 2.3795 - row_accuracy: 0.0367 - col_accuracy: 0.1356     WARNING:tensorflow:Callback method `on_train_batch_end` is slow compared to the batch time (batch time: 0.0078s vs `on_train_batch_end` time: 0.0244s). Check your callbacks.\n",
      "468/468 [==============================] - 22s 13ms/step - loss: 1.8305 - row_loss: 1.0310 - col_loss: 0.7995 - row_accuracy: 0.7316 - col_accuracy: 0.7122 - val_loss: 0.6148 - val_row_loss: 0.2920 - val_col_loss: 0.3229 - val_row_accuracy: 0.9265 - val_col_accuracy: 0.9101 - accuracy: 0.7219 - val_accuracy: 0.9183\n",
      "Epoch 2/100\n",
      "468/468 [==============================] - 6s 13ms/step - loss: 0.4975 - row_loss: 0.2390 - col_loss: 0.2585 - row_accuracy: 0.9381 - col_accuracy: 0.9247 - val_loss: 0.4760 - val_row_loss: 0.2181 - val_col_loss: 0.2578 - val_row_accuracy: 0.9432 - val_col_accuracy: 0.9265 - accuracy: 0.9314 - val_accuracy: 0.9349\n",
      "Epoch 3/100\n",
      "468/468 [==============================] - 6s 13ms/step - loss: 0.3758 - row_loss: 0.1809 - col_loss: 0.1950 - row_accuracy: 0.9508 - col_accuracy: 0.9416 - val_loss: 0.3883 - val_row_loss: 0.1776 - val_col_loss: 0.2107 - val_row_accuracy: 0.9549 - val_col_accuracy: 0.9401 - accuracy: 0.9462 - val_accuracy: 0.9475\n",
      "Epoch 4/100\n",
      "468/468 [==============================] - 6s 12ms/step - loss: 0.3042 - row_loss: 0.1472 - col_loss: 0.1570 - row_accuracy: 0.9603 - col_accuracy: 0.9513 - val_loss: 0.3648 - val_row_loss: 0.1680 - val_col_loss: 0.1968 - val_row_accuracy: 0.9562 - val_col_accuracy: 0.9427 - accuracy: 0.9558 - val_accuracy: 0.9494\n",
      "Epoch 5/100\n",
      "468/468 [==============================] - 6s 12ms/step - loss: 0.2573 - row_loss: 0.1252 - col_loss: 0.1321 - row_accuracy: 0.9656 - col_accuracy: 0.9588 - val_loss: 0.3411 - val_row_loss: 0.1548 - val_col_loss: 0.1863 - val_row_accuracy: 0.9615 - val_col_accuracy: 0.9468 - accuracy: 0.9622 - val_accuracy: 0.9542\n",
      "Epoch 6/100\n",
      "468/468 [==============================] - 6s 13ms/step - loss: 0.2235 - row_loss: 0.1074 - col_loss: 0.1161 - row_accuracy: 0.9695 - col_accuracy: 0.9626 - val_loss: 0.3279 - val_row_loss: 0.1515 - val_col_loss: 0.1764 - val_row_accuracy: 0.9610 - val_col_accuracy: 0.9503 - accuracy: 0.9661 - val_accuracy: 0.9556\n",
      "Epoch 7/100\n",
      "468/468 [==============================] - 6s 12ms/step - loss: 0.1946 - row_loss: 0.0949 - col_loss: 0.0997 - row_accuracy: 0.9728 - col_accuracy: 0.9677 - val_loss: 0.3175 - val_row_loss: 0.1408 - val_col_loss: 0.1767 - val_row_accuracy: 0.9636 - val_col_accuracy: 0.9521 - accuracy: 0.9703 - val_accuracy: 0.9578\n",
      "Epoch 8/100\n",
      "468/468 [==============================] - 6s 13ms/step - loss: 0.1710 - row_loss: 0.0837 - col_loss: 0.0873 - row_accuracy: 0.9754 - col_accuracy: 0.9710 - val_loss: 0.3126 - val_row_loss: 0.1330 - val_col_loss: 0.1796 - val_row_accuracy: 0.9637 - val_col_accuracy: 0.9512 - accuracy: 0.9732 - val_accuracy: 0.9574\n",
      "Epoch 9/100\n",
      "468/468 [==============================] - 6s 12ms/step - loss: 0.1525 - row_loss: 0.0741 - col_loss: 0.0784 - row_accuracy: 0.9780 - col_accuracy: 0.9736 - val_loss: 0.3394 - val_row_loss: 0.1498 - val_col_loss: 0.1896 - val_row_accuracy: 0.9606 - val_col_accuracy: 0.9514 - accuracy: 0.9758 - val_accuracy: 0.9560\n",
      "Epoch 10/100\n",
      "468/468 [==============================] - 6s 12ms/step - loss: 0.1317 - row_loss: 0.0636 - col_loss: 0.0681 - row_accuracy: 0.9811 - col_accuracy: 0.9771 - val_loss: 0.3296 - val_row_loss: 0.1399 - val_col_loss: 0.1897 - val_row_accuracy: 0.9638 - val_col_accuracy: 0.9529 - accuracy: 0.9791 - val_accuracy: 0.9584\n",
      "Epoch 11/100\n",
      "468/468 [==============================] - 6s 12ms/step - loss: 0.1144 - row_loss: 0.0540 - col_loss: 0.0604 - row_accuracy: 0.9835 - col_accuracy: 0.9799 - val_loss: 0.3309 - val_row_loss: 0.1372 - val_col_loss: 0.1937 - val_row_accuracy: 0.9632 - val_col_accuracy: 0.9536 - accuracy: 0.9817 - val_accuracy: 0.9584\n",
      "Epoch 12/100\n",
      "468/468 [==============================] - 6s 13ms/step - loss: 0.1011 - row_loss: 0.0495 - col_loss: 0.0515 - row_accuracy: 0.9846 - col_accuracy: 0.9826 - val_loss: 0.3667 - val_row_loss: 0.1605 - val_col_loss: 0.2062 - val_row_accuracy: 0.9604 - val_col_accuracy: 0.9494 - accuracy: 0.9836 - val_accuracy: 0.9549\n",
      "Epoch 13/100\n",
      "468/468 [==============================] - 6s 13ms/step - loss: 0.0928 - row_loss: 0.0439 - col_loss: 0.0488 - row_accuracy: 0.9867 - col_accuracy: 0.9834 - val_loss: 0.3383 - val_row_loss: 0.1399 - val_col_loss: 0.1984 - val_row_accuracy: 0.9668 - val_col_accuracy: 0.9533 - accuracy: 0.9850 - val_accuracy: 0.9601\n",
      "Epoch 14/100\n",
      "468/468 [==============================] - 6s 13ms/step - loss: 0.0819 - row_loss: 0.0382 - col_loss: 0.0437 - row_accuracy: 0.9882 - col_accuracy: 0.9845 - val_loss: 0.3871 - val_row_loss: 0.1564 - val_col_loss: 0.2307 - val_row_accuracy: 0.9606 - val_col_accuracy: 0.9504 - accuracy: 0.9864 - val_accuracy: 0.9555\n",
      "Epoch 15/100\n",
      "468/468 [==============================] - 6s 13ms/step - loss: 0.0732 - row_loss: 0.0345 - col_loss: 0.0387 - row_accuracy: 0.9895 - col_accuracy: 0.9866 - val_loss: 0.4011 - val_row_loss: 0.1530 - val_col_loss: 0.2481 - val_row_accuracy: 0.9646 - val_col_accuracy: 0.9519 - accuracy: 0.9881 - val_accuracy: 0.9583\n",
      "Epoch 16/100\n",
      "468/468 [==============================] - 6s 13ms/step - loss: 0.0631 - row_loss: 0.0306 - col_loss: 0.0325 - row_accuracy: 0.9906 - col_accuracy: 0.9886 - val_loss: 0.4057 - val_row_loss: 0.1627 - val_col_loss: 0.2430 - val_row_accuracy: 0.9653 - val_col_accuracy: 0.9536 - accuracy: 0.9896 - val_accuracy: 0.9594\n",
      "Epoch 17/100\n",
      "468/468 [==============================] - 6s 12ms/step - loss: 0.0538 - row_loss: 0.0253 - col_loss: 0.0285 - row_accuracy: 0.9920 - col_accuracy: 0.9901 - val_loss: 0.3985 - val_row_loss: 0.1585 - val_col_loss: 0.2400 - val_row_accuracy: 0.9640 - val_col_accuracy: 0.9533 - accuracy: 0.9911 - val_accuracy: 0.9587\n",
      "Epoch 18/100\n",
      "468/468 [==============================] - 6s 13ms/step - loss: 0.0477 - row_loss: 0.0220 - col_loss: 0.0257 - row_accuracy: 0.9936 - col_accuracy: 0.9908 - val_loss: 0.4190 - val_row_loss: 0.1634 - val_col_loss: 0.2556 - val_row_accuracy: 0.9650 - val_col_accuracy: 0.9527 - accuracy: 0.9922 - val_accuracy: 0.9588\n"
     ]
    }
   ],
   "source": [
    "history = model.fit(\n",
    "    train_data,\n",
    "    [train_labels_row, train_labels_col],\n",
    "    validation_data=(test_data, [test_labels_row,test_labels_col]), \n",
    "    epochs=100, \n",
    "    batch_size=150, \n",
    "    callbacks=[callbacks]\n",
    ")"
   ]
  },
  {
   "cell_type": "code",
   "execution_count": 11,
   "metadata": {},
   "outputs": [
    {
     "data": {
      "image/png": "[encoded data removed]",
      "text/plain": [
       "<Figure size 432x288 with 1 Axes>"
      ]
     },
     "metadata": {
      "needs_background": "light"
     },
     "output_type": "display_data"
    }
   ],
   "source": [
    "plt.plot(history.history[\"loss\"], 'b', label=\"loss\")\n",
    "plt.plot(history.history[\"val_loss\"], 'r', label=\"val_loss\")\n",
    "plt.xlabel(\"epoch\")\n",
    "plt.ylabel(\"frequency\")\n",
    "plt.legend()\n",
    "plt.show()"
   ]
  },
  {
   "cell_type": "code",
   "execution_count": 12,
   "metadata": {},
   "outputs": [
    {
     "data": {
      "image/png": "[encoded data removed]",
      "text/plain": [
       "<Figure size 432x288 with 1 Axes>"
      ]
     },
     "metadata": {
      "needs_background": "light"
     },
     "output_type": "display_data"
    }
   ],
   "source": [
    "plt.plot(history.history[\"accuracy\"], 'b', label=\"acc\")\n",
    "plt.plot(history.history[\"val_accuracy\"], 'r', label=\"val_acc\")\n",
    "plt.xlabel(\"epoch\")\n",
    "plt.ylabel(\"frequency\")\n",
    "plt.legend()\n",
    "plt.show()"
   ]
  },
  {
   "cell_type": "code",
   "execution_count": 14,
   "metadata": {},
   "outputs": [
    {
     "name": "stdout",
     "output_type": "stream",
     "text": [
      "row_accuracy: 96.3718%\n",
      "col_accuracy: 95.1154%\n",
      "\n",
      "accuracy: 95.7436%\n",
      "val_loss: 31.2623%\n"
     ]
    }
   ],
   "source": [
    "model = load_model(\"../datasets/Amharic character Image dataset/models/belay-fcnn-arct/best_val_loss_model.h5\")\n",
    "\n",
    "loss, _, _, row_acc, col_acc = model.evaluate(test_data, [test_labels_row,test_labels_col], verbose=False)\n",
    "\n",
    "print('row_accuracy: {:5.4f}%'.format(100 * row_acc))\n",
    "print('col_accuracy: {:5.4f}%'.format(100 * col_acc))\n",
    "print()\n",
    "print('accuracy: {:5.4f}%'.format(100 * (row_acc + col_acc)/2))\n",
    "print('val_loss: {:5.4f}%'.format(100 * loss))"
   ]
  },
  {
   "cell_type": "code",
   "execution_count": 16,
   "metadata": {},
   "outputs": [],
   "source": [
    "pred_row, pred_col, pred_char, mispred = 0,0,0,0\n",
    "\n",
    "for i in range(len(test_data)):\n",
    "    test_image = np.reshape(test_data[i], (1,32,32,1))\n",
    "    row_pred, col_pred = model.predict(test_image)\n",
    "    if (np.argmax(row_pred) ==  np.argmax(test_labels_row[i]) and np.argmax(col_pred) ==  np.argmax(test_labels_col[i])):\n",
    "        pred_char += 1\n",
    "    elif (np.argmax(row_pred) ==  np.argmax(test_labels_row[i])):\n",
    "        pred_row += 1\n",
    "    elif (np.argmax(col_pred) ==  np.argmax(test_labels_col[i])):\n",
    "        pred_col += 1\n",
    "    elif (np.argmax(row_pred) !=  np.argmax(test_labels_row[i]) and np.argmax(col_pred) !=  np.argmax(test_labels_col[i])):\n",
    "        mispred += 1\n",
    "    else:\n",
    "        pass"
   ]
  },
  {
   "cell_type": "code",
   "execution_count": 17,
   "metadata": {},
   "outputs": [
    {
     "name": "stdout",
     "output_type": "stream",
     "text": [
      "row_accuracy: 96.3718%\n",
      "col_accuracy: 95.1154% \n",
      "\n",
      "overall accuracy: 92.9744%\n",
      "val_loss: 31.2623%\n"
     ]
    }
   ],
   "source": [
    "print('row_accuracy: {:5.4f}%'.format(100 * (pred_row + pred_char) / len(test_data)))\n",
    "print('col_accuracy: {:5.4f}%'.format(100 * (pred_col + pred_char) / len(test_data)), '\\n')\n",
    "\n",
    "print('overall accuracy: {:5.4f}%'.format(100 * (pred_char) / len(test_data)))\n",
    "print('val_loss: {:5.4f}%'.format(100 * loss))"
   ]
  }
 ],
 "metadata": {
  "interpreter": {
   "hash": "9bcfdf980beae695f327ba29bd4e2bc71f3a815dd16923aa7895a16b6063fa60"
  },
  "kernelspec": {
   "display_name": "Python 3.9 (tensorflow)",
   "language": "python",
   "name": "tensorflow"
  },
  "language_info": {
   "codemirror_mode": {
    "name": "ipython",
    "version": 3
   },
   "file_extension": ".py",
   "mimetype": "text/x-python",
   "name": "python",
   "nbconvert_exporter": "python",
   "pygments_lexer": "ipython3",
   "version": "3.9.7"
  },
  "orig_nbformat": 4
 },
 "nbformat": 4,
 "nbformat_minor": 2
}
