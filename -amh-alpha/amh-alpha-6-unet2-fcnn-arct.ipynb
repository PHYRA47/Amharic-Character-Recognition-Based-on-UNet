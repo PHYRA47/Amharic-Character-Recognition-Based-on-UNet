{
 "cells": [
  {
   "cell_type": "markdown",
   "metadata": {},
   "source": [
    "parameters from the paper"
   ]
  },
  {
   "cell_type": "code",
   "execution_count": 1,
   "metadata": {},
   "outputs": [],
   "source": [
    "import numpy as np\n",
    "import visualkeras as vk \n",
    "import random\n",
    "\n",
    "from keras import Model\n",
    "from keras.models import load_model\n",
    "from keras.optimizers import gradient_descent_v2\n",
    "from keras.utils.vis_utils import plot_model\n",
    "from keras.utils import np_utils\n",
    "from keras.callbacks import Callback\n",
    "from keras.callbacks import ModelCheckpoint, EarlyStopping, TensorBoard\n",
    "from keras.layers import Conv2D, MaxPool2D, Flatten, Dense, Dropout, Input, Conv2DTranspose, concatenate\n",
    "from matplotlib import pyplot as plt\n",
    "from matplotlib.font_manager import FontProperties\n",
    "from sklearn.utils import shuffle\n",
    "from skimage.io import imshow\n",
    "\n",
    "train_data = np.load(\"../datasets/Amharic character Image dataset/Type-II/train_char/X_train_char.npy\")\n",
    "test_data = np.load(\"../datasets/Amharic character Image dataset/Type-II/test_char/X_test_char.npy\")\n",
    "train_labels = np.load(\"../datasets/Amharic character Image dataset/Type-II/train_char/y_train_char.npy\")\n",
    "test_labels = np.load(\"../datasets/Amharic character Image dataset/Type-II/test_char/y_test_char.npy\")\n",
    "\n",
    "# Normalization \n",
    "\n",
    "train_data = train_data / 255.0\n",
    "test_data = test_data / 255.0\n",
    "\n",
    "# Changing the old labels to row-column\n",
    "\n",
    "# training labels\n",
    "train_labels_row = []\n",
    "train_labels_col = []\n",
    "\n",
    "for label in train_labels:\n",
    "    row, col = divmod(label, 7)\n",
    "    train_labels_row.append(row)\n",
    "    train_labels_col.append(col)\n",
    "\n",
    "train_labels_row = np_utils.to_categorical(train_labels_row)\n",
    "train_labels_col = np_utils.to_categorical(train_labels_col)\n",
    "\n",
    "# test labels\n",
    "test_labels_row = []\n",
    "test_labels_col = []\n",
    "\n",
    "for label in test_labels:\n",
    "    row, col = divmod(label, 7)\n",
    "    test_labels_row.append(row)\n",
    "    test_labels_col.append(col)\n",
    "\n",
    "test_labels_row = np_utils.to_categorical(test_labels_row)\n",
    "test_labels_col = np_utils.to_categorical(test_labels_col)\n"
   ]
  },
  {
   "cell_type": "code",
   "execution_count": 2,
   "metadata": {},
   "outputs": [
    {
     "name": "stdout",
     "output_type": "stream",
     "text": [
      "(70194, 33)\n",
      "(70194, 7)\n",
      "(7800, 33)\n",
      "(7800, 7)\n"
     ]
    }
   ],
   "source": [
    "# Changing the old labels to row-column\n",
    "\n",
    "# training labels\n",
    "train_labels_row = []\n",
    "train_labels_col = []\n",
    "\n",
    "for label in train_labels:\n",
    "    row, col = divmod(label, 7)\n",
    "    train_labels_row.append(row)\n",
    "    train_labels_col.append(col)\n",
    "\n",
    "train_labels_row = np_utils.to_categorical(train_labels_row)\n",
    "train_labels_col = np_utils.to_categorical(train_labels_col)\n",
    "\n",
    "# test labels\n",
    "test_labels_row = []\n",
    "test_labels_col = []\n",
    "\n",
    "for label in test_labels:\n",
    "    row, col = divmod(label, 7)\n",
    "    test_labels_row.append(row)\n",
    "    test_labels_col.append(col)\n",
    "\n",
    "test_labels_row = np_utils.to_categorical(test_labels_row)\n",
    "test_labels_col = np_utils.to_categorical(test_labels_col)\n",
    "\n",
    "print(train_labels_row.shape, train_labels_col.shape, test_labels_row.shape, test_labels_col.shape, sep='\\n')"
   ]
  },
  {
   "cell_type": "code",
   "execution_count": 3,
   "metadata": {},
   "outputs": [],
   "source": [
    "# Model\n",
    "\n",
    "# feature extraction UNET\n",
    "\n",
    "input = Input(train_data.shape[1:])\n",
    "\n",
    "conv1 = Conv2D(16, 3, activation='relu', kernel_initializer='he_normal', padding='same') (input)\n",
    "conv1 = Dropout(rate=0.1) (conv1)\n",
    "conv1 = Conv2D(16, 3, activation='relu', kernel_initializer='he_normal', padding='same') (conv1)\n",
    "maxpool1 = MaxPool2D(pool_size=2) (conv1)\n",
    "conv2 = Conv2D(32, 3, activation='relu', kernel_initializer='he_normal', padding='same') (maxpool1)\n",
    "conv2 = Dropout(rate=0.1) (conv2)\n",
    "conv2 = Conv2D(32, 3, activation='relu', kernel_initializer='he_normal', padding='same') (conv2)\n",
    "maxpool2 = MaxPool2D(pool_size=2) (conv2)\n",
    "conv3 = Conv2D(64, 3, activation='relu', kernel_initializer='he_normal', padding='same') (maxpool2)\n",
    "conv3 = Dropout(rate=0.1) (conv3)\n",
    "conv3 = Conv2D(64, 3, activation='relu', kernel_initializer='he_normal', padding='same') (conv3)\n",
    "\n",
    "upconv4 = Conv2DTranspose(32, 2, strides=2, padding='same') (conv3)\n",
    "upconv4 = concatenate(inputs=[upconv4, conv2])\n",
    "conv4 = Conv2D(32, 3, activation='relu', kernel_initializer='he_normal', padding='same') (upconv4)\n",
    "conv4 = Dropout(rate=0.1) (conv4)\n",
    "conv4 = Conv2D(32, 3, activation='relu', kernel_initializer='he_normal', padding='same') (conv4)\n",
    "upconv5 = Conv2DTranspose(16, 2, strides=2, padding='same') (conv4)\n",
    "upconv5 = concatenate(inputs=[upconv5, conv1])\n",
    "conv5 = Conv2D(16, 3, activation='relu', kernel_initializer='he_normal', padding='same') (upconv5)\n",
    "conv5 = Dropout(rate=0.1) (conv5)\n",
    "conv5 = Conv2D(16, 3, activation='relu', kernel_initializer='he_normal', padding='same') (conv5)\n",
    "extractor_output = MaxPool2D(pool_size=2) (conv5) # breaks the symmetricity\n",
    "\n",
    "# classification multi-task learing CNN \n",
    "\n",
    "flatten = Flatten() (extractor_output)\n",
    "fc1 = Dense(512, activation='relu') (flatten)\n",
    "fc2 = Dense(512, activation='relu') (fc1)                   # neurons?\n",
    "\n",
    "row = Dense(units=33, activation='softmax', name='row') (fc2)\n",
    "col = Dense(units=7, activation='softmax', name='col') (fc2)\n",
    "\n",
    "model = Model(inputs=input, outputs=[row, col], name='FCNN')\n",
    "\n",
    "model.compile(\n",
    "    optimizer='adam',\n",
    "    loss=[\n",
    "        'categorical_crossentropy', \n",
    "        'categorical_crossentropy'  \n",
    "    ], \n",
    "    loss_weights = None,\n",
    "    metrics=['accuracy']\n",
    ") "
   ]
  },
  {
   "cell_type": "code",
   "execution_count": 4,
   "metadata": {},
   "outputs": [],
   "source": [
    "# Combined accuracy metrics\n",
    "\n",
    "class CombinedMetric(Callback):\n",
    "    def __init__(self):\n",
    "        super(CombinedMetric, self).__init__()\n",
    "\n",
    "    def on_epoch_begin(self, epoch, logs={}):\n",
    "        return\n",
    "\n",
    "    def on_epoch_end(self, epoch, logs={}):\n",
    "        logs['accuracy'] = (logs[\"row_accuracy\"] + logs[\"col_accuracy\"]) / 2\n",
    "        logs['val_accuracy'] = (logs[\"val_row_accuracy\"] + logs[\"val_col_accuracy\"]) / 2"
   ]
  },
  {
   "cell_type": "code",
   "execution_count": 5,
   "metadata": {},
   "outputs": [],
   "source": [
    "callbacks = [\n",
    "    ModelCheckpoint(\n",
    "        filepath=\"../datasets/Amharic character Image dataset/models/fcnn-arct/paper_best_loss_model.h5\",\n",
    "        monitor=\"loss\",\n",
    "        save_best_only=True,\n",
    "        save_weights_only=False,\n",
    "        mode=\"min\"\n",
    "    ),\n",
    "\n",
    "    ModelCheckpoint(\n",
    "        filepath=\"../datasets/Amharic character Image dataset/models/fcnn-arct/paper_best_val_loss_model.h5\",\n",
    "        monitor=\"val_loss\",\n",
    "        save_best_only=True,\n",
    "        save_weights_only=False, \n",
    "        mode=\"min\"\n",
    "    ),\n",
    "\n",
    "    EarlyStopping(\n",
    "        monitor = 'val_loss',\n",
    "        patience = 10\n",
    "    ),\n",
    "\n",
    "    TensorBoard(\n",
    "        log_dir=\"../datasets/Amharic character Image dataset/models/fcnn-arct\"\n",
    "    ),\n",
    "\n",
    "    CombinedMetric()\n",
    "]"
   ]
  },
  {
   "cell_type": "code",
   "execution_count": 6,
   "metadata": {},
   "outputs": [
    {
     "name": "stdout",
     "output_type": "stream",
     "text": [
      "Epoch 1/100\n",
      "  5/275 [..............................] - ETA: 9s - loss: 9.7970 - row_loss: 5.6355 - col_loss: 4.1615 - row_accuracy: 0.0445 - col_accuracy: 0.1352 WARNING:tensorflow:Callback method `on_train_batch_end` is slow compared to the batch time (batch time: 0.0201s vs `on_train_batch_end` time: 0.0231s). Check your callbacks.\n",
      "275/275 [==============================] - 16s 41ms/step - loss: 2.6906 - row_loss: 1.5922 - col_loss: 1.0983 - row_accuracy: 0.5972 - col_accuracy: 0.6057 - val_loss: 0.7647 - val_row_loss: 0.3957 - val_col_loss: 0.3690 - val_row_accuracy: 0.8991 - val_col_accuracy: 0.8967 - accuracy: 0.6015 - val_accuracy: 0.8979\n",
      "Epoch 2/100\n",
      "275/275 [==============================] - 10s 37ms/step - loss: 0.5894 - row_loss: 0.2930 - col_loss: 0.2964 - row_accuracy: 0.9276 - col_accuracy: 0.9138 - val_loss: 0.4832 - val_row_loss: 0.2311 - val_col_loss: 0.2521 - val_row_accuracy: 0.9406 - val_col_accuracy: 0.9296 - accuracy: 0.9207 - val_accuracy: 0.9351\n",
      "Epoch 3/100\n",
      "275/275 [==============================] - 10s 37ms/step - loss: 0.4120 - row_loss: 0.2019 - col_loss: 0.2101 - row_accuracy: 0.9478 - col_accuracy: 0.9372 - val_loss: 0.4191 - val_row_loss: 0.2042 - val_col_loss: 0.2149 - val_row_accuracy: 0.9440 - val_col_accuracy: 0.9385 - accuracy: 0.9425 - val_accuracy: 0.9412\n",
      "Epoch 4/100\n",
      "275/275 [==============================] - 11s 39ms/step - loss: 0.3282 - row_loss: 0.1591 - col_loss: 0.1691 - row_accuracy: 0.9570 - col_accuracy: 0.9475 - val_loss: 0.3735 - val_row_loss: 0.1809 - val_col_loss: 0.1925 - val_row_accuracy: 0.9523 - val_col_accuracy: 0.9445 - accuracy: 0.9522 - val_accuracy: 0.9484\n",
      "Epoch 5/100\n",
      "275/275 [==============================] - 11s 39ms/step - loss: 0.2652 - row_loss: 0.1257 - col_loss: 0.1395 - row_accuracy: 0.9643 - col_accuracy: 0.9559 - val_loss: 0.3565 - val_row_loss: 0.1751 - val_col_loss: 0.1815 - val_row_accuracy: 0.9519 - val_col_accuracy: 0.9478 - accuracy: 0.9601 - val_accuracy: 0.9499\n",
      "Epoch 6/100\n",
      "275/275 [==============================] - 10s 37ms/step - loss: 0.2209 - row_loss: 0.1033 - col_loss: 0.1176 - row_accuracy: 0.9706 - col_accuracy: 0.9621 - val_loss: 0.3760 - val_row_loss: 0.1839 - val_col_loss: 0.1920 - val_row_accuracy: 0.9541 - val_col_accuracy: 0.9462 - accuracy: 0.9663 - val_accuracy: 0.9501\n",
      "Epoch 7/100\n",
      "275/275 [==============================] - 11s 40ms/step - loss: 0.1878 - row_loss: 0.0858 - col_loss: 0.1020 - row_accuracy: 0.9750 - col_accuracy: 0.9663 - val_loss: 0.3637 - val_row_loss: 0.1744 - val_col_loss: 0.1894 - val_row_accuracy: 0.9560 - val_col_accuracy: 0.9478 - accuracy: 0.9707 - val_accuracy: 0.9519\n",
      "Epoch 8/100\n",
      "275/275 [==============================] - 11s 38ms/step - loss: 0.1573 - row_loss: 0.0714 - col_loss: 0.0858 - row_accuracy: 0.9779 - col_accuracy: 0.9720 - val_loss: 0.3523 - val_row_loss: 0.1694 - val_col_loss: 0.1829 - val_row_accuracy: 0.9612 - val_col_accuracy: 0.9547 - accuracy: 0.9750 - val_accuracy: 0.9579\n",
      "Epoch 9/100\n",
      "275/275 [==============================] - 11s 38ms/step - loss: 0.1339 - row_loss: 0.0613 - col_loss: 0.0726 - row_accuracy: 0.9807 - col_accuracy: 0.9755 - val_loss: 0.3701 - val_row_loss: 0.1764 - val_col_loss: 0.1937 - val_row_accuracy: 0.9573 - val_col_accuracy: 0.9499 - accuracy: 0.9781 - val_accuracy: 0.9536\n",
      "Epoch 10/100\n",
      "275/275 [==============================] - 11s 39ms/step - loss: 0.1202 - row_loss: 0.0559 - col_loss: 0.0642 - row_accuracy: 0.9823 - col_accuracy: 0.9778 - val_loss: 0.3713 - val_row_loss: 0.1693 - val_col_loss: 0.2020 - val_row_accuracy: 0.9603 - val_col_accuracy: 0.9517 - accuracy: 0.9801 - val_accuracy: 0.9560\n",
      "Epoch 11/100\n",
      "275/275 [==============================] - 11s 41ms/step - loss: 0.0983 - row_loss: 0.0427 - col_loss: 0.0556 - row_accuracy: 0.9860 - col_accuracy: 0.9815 - val_loss: 0.3664 - val_row_loss: 0.1686 - val_col_loss: 0.1978 - val_row_accuracy: 0.9601 - val_col_accuracy: 0.9505 - accuracy: 0.9838 - val_accuracy: 0.9553\n",
      "Epoch 12/100\n",
      "275/275 [==============================] - 11s 40ms/step - loss: 0.0877 - row_loss: 0.0369 - col_loss: 0.0509 - row_accuracy: 0.9878 - col_accuracy: 0.9828 - val_loss: 0.4006 - val_row_loss: 0.1887 - val_col_loss: 0.2119 - val_row_accuracy: 0.9608 - val_col_accuracy: 0.9503 - accuracy: 0.9853 - val_accuracy: 0.9555\n",
      "Epoch 13/100\n",
      "275/275 [==============================] - 11s 42ms/step - loss: 0.0765 - row_loss: 0.0336 - col_loss: 0.0429 - row_accuracy: 0.9890 - col_accuracy: 0.9854 - val_loss: 0.4125 - val_row_loss: 0.2048 - val_col_loss: 0.2077 - val_row_accuracy: 0.9591 - val_col_accuracy: 0.9526 - accuracy: 0.9872 - val_accuracy: 0.9558\n",
      "Epoch 14/100\n",
      "275/275 [==============================] - 11s 41ms/step - loss: 0.0663 - row_loss: 0.0297 - col_loss: 0.0366 - row_accuracy: 0.9898 - col_accuracy: 0.9873 - val_loss: 0.4165 - val_row_loss: 0.2034 - val_col_loss: 0.2131 - val_row_accuracy: 0.9587 - val_col_accuracy: 0.9533 - accuracy: 0.9886 - val_accuracy: 0.9560\n",
      "Epoch 15/100\n",
      "275/275 [==============================] - 11s 41ms/step - loss: 0.0640 - row_loss: 0.0288 - col_loss: 0.0353 - row_accuracy: 0.9904 - col_accuracy: 0.9879 - val_loss: 0.4407 - val_row_loss: 0.2202 - val_col_loss: 0.2205 - val_row_accuracy: 0.9586 - val_col_accuracy: 0.9518 - accuracy: 0.9892 - val_accuracy: 0.9552\n",
      "Epoch 16/100\n",
      "275/275 [==============================] - 11s 41ms/step - loss: 0.0592 - row_loss: 0.0262 - col_loss: 0.0330 - row_accuracy: 0.9914 - col_accuracy: 0.9888 - val_loss: 0.4481 - val_row_loss: 0.2138 - val_col_loss: 0.2343 - val_row_accuracy: 0.9594 - val_col_accuracy: 0.9523 - accuracy: 0.9901 - val_accuracy: 0.9558\n",
      "Epoch 17/100\n",
      "275/275 [==============================] - 11s 42ms/step - loss: 0.0475 - row_loss: 0.0222 - col_loss: 0.0253 - row_accuracy: 0.9927 - col_accuracy: 0.9913 - val_loss: 0.4866 - val_row_loss: 0.2394 - val_col_loss: 0.2471 - val_row_accuracy: 0.9603 - val_col_accuracy: 0.9518 - accuracy: 0.9920 - val_accuracy: 0.9560\n",
      "Epoch 18/100\n",
      "275/275 [==============================] - 12s 42ms/step - loss: 0.0485 - row_loss: 0.0218 - col_loss: 0.0267 - row_accuracy: 0.9928 - col_accuracy: 0.9910 - val_loss: 0.4651 - val_row_loss: 0.2262 - val_col_loss: 0.2389 - val_row_accuracy: 0.9590 - val_col_accuracy: 0.9560 - accuracy: 0.9919 - val_accuracy: 0.9575\n"
     ]
    }
   ],
   "source": [
    "history = model.fit(\n",
    "    train_data,\n",
    "    [train_labels_row, train_labels_col],\n",
    "    validation_data=(test_data, [test_labels_row,test_labels_col]), \n",
    "    epochs=100, \n",
    "    batch_size=256, \n",
    "    callbacks=[callbacks]\n",
    ")"
   ]
  },
  {
   "cell_type": "code",
   "execution_count": 7,
   "metadata": {},
   "outputs": [
    {
     "data": {
      "image/png": "[encoded data removed]",
      "text/plain": [
       "<Figure size 432x288 with 1 Axes>"
      ]
     },
     "metadata": {
      "needs_background": "light"
     },
     "output_type": "display_data"
    }
   ],
   "source": [
    "plt.plot(history.history[\"loss\"], 'b', label=\"loss\")\n",
    "plt.plot(history.history[\"val_loss\"], 'r', label=\"val_loss\")\n",
    "plt.xlabel(\"epoch\")\n",
    "plt.ylabel(\"frequency\")\n",
    "plt.legend()\n",
    "plt.show()"
   ]
  },
  {
   "cell_type": "code",
   "execution_count": 8,
   "metadata": {},
   "outputs": [
    {
     "data": {
      "image/png": "[encoded data removed]",
      "text/plain": [
       "<Figure size 432x288 with 1 Axes>"
      ]
     },
     "metadata": {
      "needs_background": "light"
     },
     "output_type": "display_data"
    }
   ],
   "source": [
    "plt.plot(history.history[\"accuracy\"], 'b', label=\"acc\")\n",
    "plt.plot(history.history[\"val_accuracy\"], 'r', label=\"val_acc\")\n",
    "plt.xlabel(\"epoch\")\n",
    "plt.ylabel(\"frequency\")\n",
    "plt.legend()\n",
    "plt.show()"
   ]
  },
  {
   "cell_type": "code",
   "execution_count": 9,
   "metadata": {},
   "outputs": [
    {
     "name": "stdout",
     "output_type": "stream",
     "text": [
      "row_accuracy: 96.1154%\n",
      "col_accuracy: 95.4744%\n",
      "\n",
      "accuracy: 95.7949%\n",
      "val_loss: 35.2310%\n"
     ]
    }
   ],
   "source": [
    "model = load_model(\"../datasets/Amharic character Image dataset/models/fcnn-arct/paper_best_val_loss_model.h5\")\n",
    "\n",
    "loss, _, _, row_acc, col_acc = model.evaluate(test_data, [test_labels_row,test_labels_col], verbose=False)\n",
    "\n",
    "print('row_accuracy: {:5.4f}%'.format(100 * row_acc))\n",
    "print('col_accuracy: {:5.4f}%'.format(100 * col_acc))\n",
    "print()\n",
    "print('accuracy: {:5.4f}%'.format(100 * (row_acc + col_acc)/2))\n",
    "print('val_loss: {:5.4f}%'.format(100 * loss))"
   ]
  },
  {
   "cell_type": "markdown",
   "metadata": {},
   "source": [
    "## Combined Accuracy"
   ]
  },
  {
   "cell_type": "code",
   "execution_count": 10,
   "metadata": {},
   "outputs": [
    {
     "data": {
      "text/plain": [
       "<matplotlib.image.AxesImage at 0x1cc52432310>"
      ]
     },
     "execution_count": 10,
     "metadata": {},
     "output_type": "execute_result"
    },
    {
     "data": {
      "image/png": "[encoded data removed]",
      "text/plain": [
       "<Figure size 432x288 with 1 Axes>"
      ]
     },
     "metadata": {
      "needs_background": "light"
     },
     "output_type": "display_data"
    }
   ],
   "source": [
    "imshow(test_data[random.randint(0,len(test_data))])"
   ]
  },
  {
   "cell_type": "code",
   "execution_count": 11,
   "metadata": {},
   "outputs": [],
   "source": [
    "pred_row, pred_col, pred_char, mispred = 0,0,0,0\n",
    "\n",
    "for i in range(len(test_data)):\n",
    "    test_image = np.reshape(test_data[i], (1,32,32,1))\n",
    "    row_pred, col_pred = model.predict(test_image)\n",
    "    if (np.argmax(row_pred) ==  np.argmax(test_labels_row[i]) and np.argmax(col_pred) ==  np.argmax(test_labels_col[i])):\n",
    "        pred_char += 1\n",
    "    elif (np.argmax(row_pred) ==  np.argmax(test_labels_row[i])):\n",
    "        pred_row += 1\n",
    "    elif (np.argmax(col_pred) ==  np.argmax(test_labels_col[i])):\n",
    "        pred_col += 1\n",
    "    elif (np.argmax(row_pred) !=  np.argmax(test_labels_row[i]) and np.argmax(col_pred) !=  np.argmax(test_labels_col[i])):\n",
    "        mispred += 1\n",
    "    else:\n",
    "        pass"
   ]
  },
  {
   "cell_type": "code",
   "execution_count": 12,
   "metadata": {},
   "outputs": [
    {
     "name": "stdout",
     "output_type": "stream",
     "text": [
      "row_accuracy: 96.1154%\n",
      "col_accuracy: 95.4744% \n",
      "\n",
      "overall accuracy: 93.3718%\n",
      "val_loss: 35.2310%\n"
     ]
    }
   ],
   "source": [
    "print('row_accuracy: {:5.4f}%'.format(100 * (pred_row + pred_char) / len(test_data)))\n",
    "print('col_accuracy: {:5.4f}%'.format(100 * (pred_col + pred_char) / len(test_data)), '\\n')\n",
    "\n",
    "print('overall accuracy: {:5.4f}%'.format(100 * (pred_char) / len(test_data)))\n",
    "print('val_loss: {:5.4f}%'.format(100 * loss))"
   ]
  },
  {
   "cell_type": "code",
   "execution_count": 13,
   "metadata": {},
   "outputs": [
    {
     "name": "stdout",
     "output_type": "stream",
     "text": [
      "214\n",
      "164\n",
      "7283\n",
      "139\n",
      "2.7435897435897436\n",
      "2.1025641025641026\n",
      "93.37179487179488\n",
      "1.7820512820512822\n"
     ]
    }
   ],
   "source": [
    "print(pred_row, pred_col, pred_char, mispred, sep = '\\n')\n",
    "\n",
    "print(pred_row/78, pred_col/78, pred_char/78, mispred/78, sep = '\\n')"
   ]
  }
 ],
 "metadata": {
  "interpreter": {
   "hash": "f4e54259ef8616eef21bcd10bd4f7e941dd9cb76b25092aaeb01d4b2c211303a"
  },
  "kernelspec": {
   "display_name": "Python 3.9.7 ('tensorflow')",
   "language": "python",
   "name": "python3"
  },
  "language_info": {
   "codemirror_mode": {
    "name": "ipython",
    "version": 3
   },
   "file_extension": ".py",
   "mimetype": "text/x-python",
   "name": "python",
   "nbconvert_exporter": "python",
   "pygments_lexer": "ipython3",
   "version": "3.9.7"
  },
  "orig_nbformat": 4
 },
 "nbformat": 4,
 "nbformat_minor": 2
}
