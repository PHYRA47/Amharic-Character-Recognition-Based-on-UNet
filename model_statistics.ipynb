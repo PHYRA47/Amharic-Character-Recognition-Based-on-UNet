{
 "cells": [
  {
   "cell_type": "code",
   "execution_count": 1,
   "metadata": {},
   "outputs": [],
   "source": [
    "import numpy as np\n",
    "\n",
    "from keras.models import load_model\n",
    "from keras.utils import np_utils"
   ]
  },
  {
   "cell_type": "markdown",
   "metadata": {},
   "source": [
    "## A-Z Kaggle Dataset"
   ]
  },
  {
   "cell_type": "markdown",
   "metadata": {},
   "source": [
    "Simple Sequential CNN model"
   ]
  },
  {
   "cell_type": "code",
   "execution_count": 2,
   "metadata": {},
   "outputs": [],
   "source": [
    "train_data = np.load(\"datasets/A_Z Handwritten Data/train_data.npy\")\n",
    "test_data = np.load(\"datasets/A_Z Handwritten Data/test_data.npy\")\n",
    "train_labels = np.load(\"datasets/A_Z Handwritten Data/train_labels.npy\")\n",
    "test_labels = np.load(\"datasets/A_Z Handwritten Data/test_labels.npy\")"
   ]
  },
  {
   "cell_type": "code",
   "execution_count": 3,
   "metadata": {},
   "outputs": [
    {
     "name": "stdout",
     "output_type": "stream",
     "text": [
      "2328/2328 [==============================] - 8s 2ms/step - loss: 0.0305 - accuracy: 0.9925\n",
      "accuracy: 99.2469%\n",
      "val_loss: 3.0540%\n"
     ]
    }
   ],
   "source": [
    "model = load_model(\"-eng-alpha\\saved_model\\cnn-arct-model.h5\")\n",
    "\n",
    "loss, acc = model.evaluate(test_data, test_labels)\n",
    "print('accuracy: {:5.4f}%'.format(100 * acc))\n",
    "print('val_loss: {:5.4f}%'.format(100 * loss))"
   ]
  },
  {
   "cell_type": "markdown",
   "metadata": {},
   "source": [
    "Single UNet Model"
   ]
  },
  {
   "cell_type": "code",
   "execution_count": 4,
   "metadata": {},
   "outputs": [
    {
     "name": "stdout",
     "output_type": "stream",
     "text": [
      "2328/2328 [==============================] - 7s 3ms/step - loss: 0.0317 - accuracy: 0.9917\n",
      "accuracy: 99.1717%\n",
      "val_loss: 3.1745%\n"
     ]
    }
   ],
   "source": [
    "model = load_model(\"-eng-alpha/saved_model/unet-arct-model.h5\")\n",
    "\n",
    "loss, acc = model.evaluate(test_data, test_labels)\n",
    "print('accuracy: {:5.4f}%'.format(100 * acc))\n",
    "print('val_loss: {:5.4f}%'.format(100 * loss))"
   ]
  },
  {
   "cell_type": "markdown",
   "metadata": {},
   "source": [
    "2 downsampling layer Unet"
   ]
  },
  {
   "cell_type": "code",
   "execution_count": 3,
   "metadata": {},
   "outputs": [
    {
     "name": "stdout",
     "output_type": "stream",
     "text": [
      "2328/2328 [==============================] - 12s 4ms/step - loss: 0.0314 - accuracy: 0.9912\n",
      "accuracy: 99.1220%\n",
      "val_loss: 3.1369%\n"
     ]
    }
   ],
   "source": [
    "model = load_model(\"-eng-alpha/saved_model/unet2-arct-model.h5\")\n",
    "\n",
    "loss, acc = model.evaluate(test_data, test_labels)\n",
    "print('accuracy: {:5.4f}%'.format(100 * acc))\n",
    "print('val_loss: {:5.4f}%'.format(100 * loss))"
   ]
  },
  {
   "cell_type": "markdown",
   "metadata": {},
   "source": [
    "## A-Z Kaggle Plus 0-9 MNIST Dataset "
   ]
  },
  {
   "cell_type": "markdown",
   "metadata": {},
   "source": [
    "Simple Sequential CNN model"
   ]
  },
  {
   "cell_type": "code",
   "execution_count": 2,
   "metadata": {},
   "outputs": [],
   "source": [
    "train_data = np.load(\"datasets/MNIST/train_data.npy\")\n",
    "test_data = np.load(\"datasets/MNIST/test_data.npy\")\n",
    "train_labels = np.load(\"datasets/MNIST/train_labels.npy\")\n",
    "test_labels = np.load(\"datasets/MNIST/test_labels.npy\")"
   ]
  },
  {
   "cell_type": "code",
   "execution_count": 3,
   "metadata": {},
   "outputs": [
    {
     "name": "stdout",
     "output_type": "stream",
     "text": [
      "2766/2766 [==============================] - 14s 4ms/step - loss: 0.0531 - accuracy: 0.9849\n",
      "accuracy: 98.4925%\n",
      "val_loss: 5.3122%\n"
     ]
    }
   ],
   "source": [
    "model = load_model(\"-eng-alphanum/saved_model/unet-arct-model.h5\")\n",
    "\n",
    "loss, acc = model.evaluate(test_data, test_labels)\n",
    "print('accuracy: {:5.4f}%'.format(100 * acc))\n",
    "print('val_loss: {:5.4f}%'.format(100 * loss))"
   ]
  },
  {
   "cell_type": "markdown",
   "metadata": {},
   "source": [
    "Single UNet Model"
   ]
  },
  {
   "cell_type": "code",
   "execution_count": 3,
   "metadata": {},
   "outputs": [
    {
     "name": "stdout",
     "output_type": "stream",
     "text": [
      "2766/2766 [==============================] - 12s 3ms/step - loss: 0.0492 - accuracy: 0.9856\n",
      "accuracy: 98.5558%\n",
      "val_loss: 4.9226%\n"
     ]
    }
   ],
   "source": [
    "model = load_model(\"-eng-alphanum/saved_model/unet-arct-model.h5\")\n",
    "\n",
    "loss, acc = model.evaluate(test_data, test_labels)\n",
    "print('accuracy: {:5.4f}%'.format(100 * acc))\n",
    "print('val_loss: {:5.4f}%'.format(100 * loss))"
   ]
  },
  {
   "cell_type": "markdown",
   "metadata": {},
   "source": [
    "2 downsampling layer Unet"
   ]
  },
  {
   "cell_type": "code",
   "execution_count": 3,
   "metadata": {},
   "outputs": [
    {
     "name": "stdout",
     "output_type": "stream",
     "text": [
      "2766/2766 [==============================] - 14s 4ms/step - loss: 0.0481 - accuracy: 0.9860\n",
      "accuracy: 98.5976%\n",
      "val_loss: 4.8070%\n"
     ]
    }
   ],
   "source": [
    "model = load_model(\"-eng-alphanum/saved_model/unet2-arct-model.h5\")\n",
    "\n",
    "loss, acc = model.evaluate(test_data, test_labels)\n",
    "print('accuracy: {:5.4f}%'.format(100 * acc))\n",
    "print('val_loss: {:5.4f}%'.format(100 * loss))"
   ]
  },
  {
   "cell_type": "markdown",
   "metadata": {},
   "source": [
    "## Amharic Dataset"
   ]
  },
  {
   "cell_type": "markdown",
   "metadata": {},
   "source": [
    "I have used the best validation loss model for the models below."
   ]
  },
  {
   "cell_type": "code",
   "execution_count": 2,
   "metadata": {},
   "outputs": [],
   "source": [
    "train_data = np.load(\"datasets/Amharic character Image dataset/Type-II/train_char/X_train_char.npy\")\n",
    "test_data = np.load(\"datasets/Amharic character Image dataset/Type-II/test_char/X_test_char.npy\")\n",
    "train_labels = np.load(\"datasets/Amharic character Image dataset/Type-II/train_char/y_train_char.npy\")\n",
    "test_labels = np.load(\"datasets/Amharic character Image dataset/Type-II/test_char/y_test_char.npy\")\n",
    "\n",
    "train_data = train_data / 255.0\n",
    "test_data = test_data / 255.0\n",
    "\n",
    "train_labels = np_utils.to_categorical(train_labels)\n",
    "test_labels = np_utils.to_categorical(test_labels)"
   ]
  },
  {
   "cell_type": "markdown",
   "metadata": {},
   "source": [
    "Original Paper CNN Architecture"
   ]
  },
  {
   "cell_type": "code",
   "execution_count": 4,
   "metadata": {},
   "outputs": [
    {
     "name": "stdout",
     "output_type": "stream",
     "text": [
      "244/244 [==============================] - 1s 3ms/step - loss: 0.3152 - accuracy: 0.9295\n",
      "accuracy: 92.9487%\n",
      "val_loss: 31.5165%\n"
     ]
    }
   ],
   "source": [
    "model = load_model(\"datasets/Amharic character Image dataset/models/org-cnn-arct/best_val_loss_model.h5\")\n",
    "\n",
    "loss, acc = model.evaluate(test_data, test_labels)\n",
    "print('accuracy: {:5.4f}%'.format(100 * acc))\n",
    "print('val_loss: {:5.4f}%'.format(100 * loss))"
   ]
  },
  {
   "cell_type": "markdown",
   "metadata": {},
   "source": [
    "Simple Sequential CNN model"
   ]
  },
  {
   "cell_type": "code",
   "execution_count": 3,
   "metadata": {},
   "outputs": [
    {
     "name": "stdout",
     "output_type": "stream",
     "text": [
      "244/244 [==============================] - 7s 3ms/step - loss: 0.3803 - accuracy: 0.9154\n",
      "accuracy: 91.5385%\n",
      "val_loss: 38.0300%\n"
     ]
    }
   ],
   "source": [
    "model = load_model(\"datasets/Amharic character Image dataset/models/cnn-arct/best_val_loss_model.h5\")\n",
    "\n",
    "loss, acc = model.evaluate(test_data, test_labels)\n",
    "print('accuracy: {:5.4f}%'.format(100 * acc))\n",
    "print('val_loss: {:5.4f}%'.format(100 * loss))"
   ]
  },
  {
   "cell_type": "markdown",
   "metadata": {},
   "source": [
    "Single UNet Model"
   ]
  },
  {
   "cell_type": "code",
   "execution_count": 6,
   "metadata": {},
   "outputs": [
    {
     "name": "stdout",
     "output_type": "stream",
     "text": [
      "244/244 [==============================] - 1s 3ms/step - loss: 0.3499 - accuracy: 0.9260\n",
      "accuracy: 92.6026%\n",
      "val_loss: 34.9883%\n"
     ]
    }
   ],
   "source": [
    "model = load_model(\"datasets/Amharic character Image dataset/models/unet-arct/best_val_loss_model.h5\")\n",
    "\n",
    "loss, acc = model.evaluate(test_data, test_labels)\n",
    "print('accuracy: {:5.4f}%'.format(100 * acc))\n",
    "print('val_loss: {:5.4f}%'.format(100 * loss))"
   ]
  },
  {
   "cell_type": "markdown",
   "metadata": {},
   "source": [
    "2 Downsampling layer UNet"
   ]
  },
  {
   "cell_type": "code",
   "execution_count": 3,
   "metadata": {},
   "outputs": [
    {
     "name": "stdout",
     "output_type": "stream",
     "text": [
      "244/244 [==============================] - 4s 5ms/step - loss: 0.3433 - accuracy: 0.9286\n",
      "accuracy: 92.8590%\n",
      "val_loss: 34.3307%\n"
     ]
    }
   ],
   "source": [
    "model = load_model(\"datasets/Amharic character Image dataset/models/unet2-arct/best_val_loss_model.h5\")\n",
    "\n",
    "loss, acc = model.evaluate(test_data, test_labels)\n",
    "print('accuracy: {:5.4f}%'.format(100 * acc))\n",
    "print('val_loss: {:5.4f}%'.format(100 * loss))"
   ]
  }
 ],
 "metadata": {
  "kernelspec": {
   "display_name": "Python 3.9 (tensorflow)",
   "language": "python",
   "name": "tensorflow"
  },
  "language_info": {
   "codemirror_mode": {
    "name": "ipython",
    "version": 3
   },
   "file_extension": ".py",
   "mimetype": "text/x-python",
   "name": "python",
   "nbconvert_exporter": "python",
   "pygments_lexer": "ipython3",
   "version": "3.9.7"
  },
  "orig_nbformat": 4
 },
 "nbformat": 4,
 "nbformat_minor": 2
}
